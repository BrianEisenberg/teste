{
  "nbformat": 4,
  "nbformat_minor": 0,
  "metadata": {
    "colab": {
      "provenance": [],
      "mount_file_id": "1zfoXqt4NwjXWYyhgr4Zh-D8ukUzkbqcM",
      "authorship_tag": "ABX9TyPSZ/LGfxOxlu37me92zR8J",
      "include_colab_link": true
    },
    "kernelspec": {
      "name": "python3",
      "display_name": "Python 3"
    },
    "language_info": {
      "name": "python"
    }
  },
  "cells": [
    {
      "cell_type": "markdown",
      "metadata": {
        "id": "view-in-github",
        "colab_type": "text"
      },
      "source": [
        "<a href=\"https://colab.research.google.com/github/BrianEisenberg/teste/blob/main/Lista_Pandas.ipynb\" target=\"_parent\"><img src=\"https://colab.research.google.com/assets/colab-badge.svg\" alt=\"Open In Colab\"/></a>"
      ]
    },
    {
      "cell_type": "code",
      "execution_count": null,
      "metadata": {
        "colab": {
          "base_uri": "https://localhost:8080/"
        },
        "id": "DFx_n7ruuetR",
        "outputId": "b97da35f-251a-4216-ca3d-74a4507df9d0"
      },
      "outputs": [
        {
          "output_type": "stream",
          "name": "stdout",
          "text": [
            "     PassengerId  Pclass                                               Name  \\\n",
            "0              1       3                            Braund, Mr. Owen Harris   \n",
            "1              2       1  Cumings, Mrs. John Bradley (Florence Briggs Th...   \n",
            "2              3       3                             Heikkinen, Miss. Laina   \n",
            "3              4       1       Futrelle, Mrs. Jacques Heath (Lily May Peel)   \n",
            "4              5       3                           Allen, Mr. William Henry   \n",
            "..           ...     ...                                                ...   \n",
            "886          887       2                              Montvila, Rev. Juozas   \n",
            "887          888       1                       Graham, Miss. Margaret Edith   \n",
            "888          889       3           Johnston, Miss. Catherine Helen \"Carrie\"   \n",
            "889          890       1                              Behr, Mr. Karl Howell   \n",
            "890          891       3                                Dooley, Mr. Patrick   \n",
            "\n",
            "        Sex   Age  SibSp  Parch            Ticket     Fare Cabin Embarked  \\\n",
            "0      male  22.0      1      0         A/5 21171   7.2500   NaN        S   \n",
            "1    female  38.0      1      0          PC 17599  71.2833   C85        C   \n",
            "2    female  26.0      0      0  STON/O2. 3101282   7.9250   NaN        S   \n",
            "3    female  35.0      1      0            113803  53.1000  C123        S   \n",
            "4      male  35.0      0      0            373450   8.0500   NaN        S   \n",
            "..      ...   ...    ...    ...               ...      ...   ...      ...   \n",
            "886    male  27.0      0      0            211536  13.0000   NaN        S   \n",
            "887  female  19.0      0      0            112053  30.0000   B42        S   \n",
            "888  female   NaN      1      2        W./C. 6607  23.4500   NaN        S   \n",
            "889    male  26.0      0      0            111369  30.0000  C148        C   \n",
            "890    male  32.0      0      0            370376   7.7500   NaN        Q   \n",
            "\n",
            "     Survived  \n",
            "0           0  \n",
            "1           1  \n",
            "2           1  \n",
            "3           1  \n",
            "4           0  \n",
            "..        ...  \n",
            "886         0  \n",
            "887         1  \n",
            "888         0  \n",
            "889         1  \n",
            "890         0  \n",
            "\n",
            "[891 rows x 12 columns]\n"
          ]
        }
      ],
      "source": [
        "#1) \n",
        "\n",
        "import pandas as pd\n",
        "titanic=pd.read_csv('/content/drive/MyDrive/class_titanic.csv')\n",
        "data_titanic=pd.DataFrame(titanic)\n",
        "print(data_titanic)"
      ]
    },
    {
      "cell_type": "code",
      "source": [
        "#2\n",
        "\n",
        "print(titanic.info())"
      ],
      "metadata": {
        "colab": {
          "base_uri": "https://localhost:8080/"
        },
        "id": "8z_OzZLAxjNm",
        "outputId": "da5e80de-6b35-4c4c-d6ad-42dc95bdd0b2"
      },
      "execution_count": null,
      "outputs": [
        {
          "output_type": "stream",
          "name": "stdout",
          "text": [
            "<class 'pandas.core.frame.DataFrame'>\n",
            "RangeIndex: 891 entries, 0 to 890\n",
            "Data columns (total 12 columns):\n",
            " #   Column       Non-Null Count  Dtype  \n",
            "---  ------       --------------  -----  \n",
            " 0   PassengerId  891 non-null    int64  \n",
            " 1   Pclass       891 non-null    int64  \n",
            " 2   Name         891 non-null    object \n",
            " 3   Sex          891 non-null    object \n",
            " 4   Age          714 non-null    float64\n",
            " 5   SibSp        891 non-null    int64  \n",
            " 6   Parch        891 non-null    int64  \n",
            " 7   Ticket       891 non-null    object \n",
            " 8   Fare         891 non-null    float64\n",
            " 9   Cabin        204 non-null    object \n",
            " 10  Embarked     889 non-null    object \n",
            " 11  Survived     891 non-null    int64  \n",
            "dtypes: float64(2), int64(5), object(5)\n",
            "memory usage: 83.7+ KB\n",
            "None\n"
          ]
        }
      ]
    },
    {
      "cell_type": "code",
      "source": [
        "#3\n",
        "\n",
        "data_titanic.dropna(subset=['Parch'], inplace=True)\n",
        "print(data_titanic)"
      ],
      "metadata": {
        "id": "0mZlghJiyEd3",
        "colab": {
          "base_uri": "https://localhost:8080/"
        },
        "outputId": "9554de8b-327f-449a-a2b4-6cd962438b10"
      },
      "execution_count": null,
      "outputs": [
        {
          "output_type": "stream",
          "name": "stdout",
          "text": [
            "     PassengerId  Pclass                                               Name  \\\n",
            "0              1       3                            Braund, Mr. Owen Harris   \n",
            "1              2       1  Cumings, Mrs. John Bradley (Florence Briggs Th...   \n",
            "2              3       3                             Heikkinen, Miss. Laina   \n",
            "3              4       1       Futrelle, Mrs. Jacques Heath (Lily May Peel)   \n",
            "4              5       3                           Allen, Mr. William Henry   \n",
            "..           ...     ...                                                ...   \n",
            "886          887       2                              Montvila, Rev. Juozas   \n",
            "887          888       1                       Graham, Miss. Margaret Edith   \n",
            "888          889       3           Johnston, Miss. Catherine Helen \"Carrie\"   \n",
            "889          890       1                              Behr, Mr. Karl Howell   \n",
            "890          891       3                                Dooley, Mr. Patrick   \n",
            "\n",
            "        Sex   Age  SibSp  Parch            Ticket     Fare Cabin Embarked  \\\n",
            "0      male  22.0      1      0         A/5 21171   7.2500   NaN        S   \n",
            "1    female  38.0      1      0          PC 17599  71.2833   C85        C   \n",
            "2    female  26.0      0      0  STON/O2. 3101282   7.9250   NaN        S   \n",
            "3    female  35.0      1      0            113803  53.1000  C123        S   \n",
            "4      male  35.0      0      0            373450   8.0500   NaN        S   \n",
            "..      ...   ...    ...    ...               ...      ...   ...      ...   \n",
            "886    male  27.0      0      0            211536  13.0000   NaN        S   \n",
            "887  female  19.0      0      0            112053  30.0000   B42        S   \n",
            "888  female   NaN      1      2        W./C. 6607  23.4500   NaN        S   \n",
            "889    male  26.0      0      0            111369  30.0000  C148        C   \n",
            "890    male  32.0      0      0            370376   7.7500   NaN        Q   \n",
            "\n",
            "     Survived  \n",
            "0           0  \n",
            "1           1  \n",
            "2           1  \n",
            "3           1  \n",
            "4           0  \n",
            "..        ...  \n",
            "886         0  \n",
            "887         1  \n",
            "888         0  \n",
            "889         1  \n",
            "890         0  \n",
            "\n",
            "[891 rows x 12 columns]\n"
          ]
        }
      ]
    },
    {
      "cell_type": "code",
      "source": [
        "#4\n",
        "\n",
        "med_parch=data_titanic['Parch'].mean()\n",
        "print(med_parch)"
      ],
      "metadata": {
        "colab": {
          "base_uri": "https://localhost:8080/"
        },
        "id": "4cM46pdrzwER",
        "outputId": "c94187a2-8fee-41fc-9762-b1d424e8043a"
      },
      "execution_count": null,
      "outputs": [
        {
          "output_type": "stream",
          "name": "stdout",
          "text": [
            "0.38159371492704824\n"
          ]
        }
      ]
    },
    {
      "cell_type": "code",
      "source": [
        "#5\n",
        "\n",
        "maior_que_media=data_titanic[(data_titanic['Parch']>4)].index\n",
        "menor_que_media=data_titanic[(data_titanic['Parch']<1)].index\n",
        "sem_maior=data_titanic.drop(maior_que_media)\n",
        "titanic_novo=sem_maior.drop(menor_que_media)\n",
        "med_nova=titanic_novo['Parch'].mean()\n",
        "print(med_nova)\n",
        "print(titanic_novo)"
      ],
      "metadata": {
        "colab": {
          "base_uri": "https://localhost:8080/"
        },
        "id": "HJho0_j60BC9",
        "outputId": "56e135ab-cd2b-4bd3-c20e-eba21e80b512"
      },
      "execution_count": null,
      "outputs": [
        {
          "output_type": "stream",
          "name": "stdout",
          "text": [
            "1.4927536231884058\n",
            "     PassengerId  Pclass                                               Name  \\\n",
            "7              8       3                     Palsson, Master. Gosta Leonard   \n",
            "8              9       3  Johnson, Mrs. Oscar W (Elisabeth Vilhelmina Berg)   \n",
            "10            11       3                    Sandstrom, Miss. Marguerite Rut   \n",
            "16            17       3                               Rice, Master. Eugene   \n",
            "24            25       3                      Palsson, Miss. Torborg Danira   \n",
            "..           ...     ...                                                ...   \n",
            "869          870       3                    Johnson, Master. Harold Theodor   \n",
            "871          872       1   Beckwith, Mrs. Richard Leonard (Sallie Monypeny)   \n",
            "879          880       1      Potter, Mrs. Thomas Jr (Lily Alexenia Wilson)   \n",
            "880          881       2       Shelley, Mrs. William (Imanita Parrish Hall)   \n",
            "888          889       3           Johnston, Miss. Catherine Helen \"Carrie\"   \n",
            "\n",
            "        Sex   Age  SibSp  Parch      Ticket     Fare Cabin Embarked  Survived  \n",
            "7      male   2.0      3      1      349909  21.0750   NaN        S         0  \n",
            "8    female  27.0      0      2      347742  11.1333   NaN        S         1  \n",
            "10   female   4.0      1      1     PP 9549  16.7000    G6        S         1  \n",
            "16     male   2.0      4      1      382652  29.1250   NaN        Q         0  \n",
            "24   female   8.0      3      1      349909  21.0750   NaN        S         0  \n",
            "..      ...   ...    ...    ...         ...      ...   ...      ...       ...  \n",
            "869    male   4.0      1      1      347742  11.1333   NaN        S         1  \n",
            "871  female  47.0      1      1       11751  52.5542   D35        S         1  \n",
            "879  female  56.0      0      1       11767  83.1583   C50        C         1  \n",
            "880  female  25.0      0      1      230433  26.0000   NaN        S         1  \n",
            "888  female   NaN      1      2  W./C. 6607  23.4500   NaN        S         0  \n",
            "\n",
            "[207 rows x 12 columns]\n"
          ]
        }
      ]
    },
    {
      "cell_type": "code",
      "source": [
        "#6\n",
        "\n",
        "col_name=titanic_novo['Name']\n",
        "col_sex=titanic_novo['Sex']\n",
        "col_age=titanic_novo['Age']\n",
        "col_parch=titanic_novo['Parch']\n",
        "col_ticket=titanic_novo['Ticket']\n",
        "resultado=pd.concat([col_name,col_sex,col_age,col_parch,col_ticket],axis=1)\n",
        "print(resultado)"
      ],
      "metadata": {
        "colab": {
          "base_uri": "https://localhost:8080/"
        },
        "id": "92zYNd2j2zv9",
        "outputId": "e712bd52-c14d-462a-cd66-897f646fb686"
      },
      "execution_count": null,
      "outputs": [
        {
          "output_type": "stream",
          "name": "stdout",
          "text": [
            "                                                  Name     Sex   Age  Parch  \\\n",
            "7                       Palsson, Master. Gosta Leonard    male   2.0      1   \n",
            "8    Johnson, Mrs. Oscar W (Elisabeth Vilhelmina Berg)  female  27.0      2   \n",
            "10                     Sandstrom, Miss. Marguerite Rut  female   4.0      1   \n",
            "16                                Rice, Master. Eugene    male   2.0      1   \n",
            "24                       Palsson, Miss. Torborg Danira  female   8.0      1   \n",
            "..                                                 ...     ...   ...    ...   \n",
            "869                    Johnson, Master. Harold Theodor    male   4.0      1   \n",
            "871   Beckwith, Mrs. Richard Leonard (Sallie Monypeny)  female  47.0      1   \n",
            "879      Potter, Mrs. Thomas Jr (Lily Alexenia Wilson)  female  56.0      1   \n",
            "880       Shelley, Mrs. William (Imanita Parrish Hall)  female  25.0      1   \n",
            "888           Johnston, Miss. Catherine Helen \"Carrie\"  female   NaN      2   \n",
            "\n",
            "         Ticket  \n",
            "7        349909  \n",
            "8        347742  \n",
            "10      PP 9549  \n",
            "16       382652  \n",
            "24       349909  \n",
            "..          ...  \n",
            "869      347742  \n",
            "871       11751  \n",
            "879       11767  \n",
            "880      230433  \n",
            "888  W./C. 6607  \n",
            "\n",
            "[207 rows x 5 columns]\n"
          ]
        }
      ]
    },
    {
      "cell_type": "code",
      "source": [
        "#7\n",
        "\n",
        "import random\n",
        "col_num1=titanic_novo['Age']\n",
        "col_num2=titanic_novo['Parch']\n",
        "titanic_novo.insert(0, 'Diferença', ((col_num1-col_num2)*random.random()).astype(float))\n",
        "print(data_titanic)\n",
        "print(titanic_novo)"
      ],
      "metadata": {
        "colab": {
          "base_uri": "https://localhost:8080/"
        },
        "id": "0YPZBjKZ5bG5",
        "outputId": "94a9bbc3-ab27-4c93-bd9b-391be329d8aa"
      },
      "execution_count": null,
      "outputs": [
        {
          "output_type": "stream",
          "name": "stdout",
          "text": [
            "     PassengerId  Pclass                                               Name  \\\n",
            "0              1       3                            Braund, Mr. Owen Harris   \n",
            "1              2       1  Cumings, Mrs. John Bradley (Florence Briggs Th...   \n",
            "2              3       3                             Heikkinen, Miss. Laina   \n",
            "3              4       1       Futrelle, Mrs. Jacques Heath (Lily May Peel)   \n",
            "4              5       3                           Allen, Mr. William Henry   \n",
            "..           ...     ...                                                ...   \n",
            "886          887       2                              Montvila, Rev. Juozas   \n",
            "887          888       1                       Graham, Miss. Margaret Edith   \n",
            "888          889       3           Johnston, Miss. Catherine Helen \"Carrie\"   \n",
            "889          890       1                              Behr, Mr. Karl Howell   \n",
            "890          891       3                                Dooley, Mr. Patrick   \n",
            "\n",
            "        Sex   Age  SibSp  Parch            Ticket     Fare Cabin Embarked  \\\n",
            "0      male  22.0      1      0         A/5 21171   7.2500   NaN        S   \n",
            "1    female  38.0      1      0          PC 17599  71.2833   C85        C   \n",
            "2    female  26.0      0      0  STON/O2. 3101282   7.9250   NaN        S   \n",
            "3    female  35.0      1      0            113803  53.1000  C123        S   \n",
            "4      male  35.0      0      0            373450   8.0500   NaN        S   \n",
            "..      ...   ...    ...    ...               ...      ...   ...      ...   \n",
            "886    male  27.0      0      0            211536  13.0000   NaN        S   \n",
            "887  female  19.0      0      0            112053  30.0000   B42        S   \n",
            "888  female   NaN      1      2        W./C. 6607  23.4500   NaN        S   \n",
            "889    male  26.0      0      0            111369  30.0000  C148        C   \n",
            "890    male  32.0      0      0            370376   7.7500   NaN        Q   \n",
            "\n",
            "     Survived  \n",
            "0           0  \n",
            "1           1  \n",
            "2           1  \n",
            "3           1  \n",
            "4           0  \n",
            "..        ...  \n",
            "886         0  \n",
            "887         1  \n",
            "888         0  \n",
            "889         1  \n",
            "890         0  \n",
            "\n",
            "[891 rows x 12 columns]\n",
            "     Diferença  PassengerId  Pclass  \\\n",
            "7     0.685024            8       3   \n",
            "8    17.125595            9       3   \n",
            "10    2.055071           11       3   \n",
            "16    0.685024           17       3   \n",
            "24    4.795167           25       3   \n",
            "..         ...          ...     ...   \n",
            "869   2.055071          870       3   \n",
            "871  31.511096          872       1   \n",
            "879  37.676310          880       1   \n",
            "880  16.440572          881       2   \n",
            "888        NaN          889       3   \n",
            "\n",
            "                                                  Name     Sex   Age  SibSp  \\\n",
            "7                       Palsson, Master. Gosta Leonard    male   2.0      3   \n",
            "8    Johnson, Mrs. Oscar W (Elisabeth Vilhelmina Berg)  female  27.0      0   \n",
            "10                     Sandstrom, Miss. Marguerite Rut  female   4.0      1   \n",
            "16                                Rice, Master. Eugene    male   2.0      4   \n",
            "24                       Palsson, Miss. Torborg Danira  female   8.0      3   \n",
            "..                                                 ...     ...   ...    ...   \n",
            "869                    Johnson, Master. Harold Theodor    male   4.0      1   \n",
            "871   Beckwith, Mrs. Richard Leonard (Sallie Monypeny)  female  47.0      1   \n",
            "879      Potter, Mrs. Thomas Jr (Lily Alexenia Wilson)  female  56.0      0   \n",
            "880       Shelley, Mrs. William (Imanita Parrish Hall)  female  25.0      0   \n",
            "888           Johnston, Miss. Catherine Helen \"Carrie\"  female   NaN      1   \n",
            "\n",
            "     Parch      Ticket     Fare Cabin Embarked  Survived  \n",
            "7        1      349909  21.0750   NaN        S         0  \n",
            "8        2      347742  11.1333   NaN        S         1  \n",
            "10       1     PP 9549  16.7000    G6        S         1  \n",
            "16       1      382652  29.1250   NaN        Q         0  \n",
            "24       1      349909  21.0750   NaN        S         0  \n",
            "..     ...         ...      ...   ...      ...       ...  \n",
            "869      1      347742  11.1333   NaN        S         1  \n",
            "871      1       11751  52.5542   D35        S         1  \n",
            "879      1       11767  83.1583   C50        C         1  \n",
            "880      1      230433  26.0000   NaN        S         1  \n",
            "888      2  W./C. 6607  23.4500   NaN        S         0  \n",
            "\n",
            "[207 rows x 13 columns]\n"
          ]
        }
      ]
    },
    {
      "cell_type": "code",
      "source": [
        "#8\n",
        "\n",
        "import numpy as np\n",
        "rand_titanic=titanic_novo.reindex(np.random.permutation(titanic_novo.index))\n",
        "print(rand_titanic)"
      ],
      "metadata": {
        "id": "fSbGaSSe57-k",
        "colab": {
          "base_uri": "https://localhost:8080/"
        },
        "outputId": "32abf5ab-ab77-446b-f52e-5e0e8056213b"
      },
      "execution_count": null,
      "outputs": [
        {
          "output_type": "stream",
          "name": "stdout",
          "text": [
            "     Diferença  PassengerId  Pclass  \\\n",
            "436  13.015452          437       3   \n",
            "148  23.633322          149       2   \n",
            "848  18.495643          849       2   \n",
            "323  14.385500          324       2   \n",
            "254  26.715929          255       3   \n",
            "..         ...          ...     ...   \n",
            "754  31.511096          755       2   \n",
            "548  21.920762          549       3   \n",
            "736  30.826072          737       3   \n",
            "340   0.685024          341       2   \n",
            "297   0.000000          298       1   \n",
            "\n",
            "                                                  Name     Sex   Age  SibSp  \\\n",
            "436               Ford, Miss. Doolina Margaret \"Daisy\"  female  21.0      2   \n",
            "148           Navratil, Mr. Michel (\"Louis M Hoffman\")    male  36.5      0   \n",
            "848                                  Harper, Rev. John    male  28.0      0   \n",
            "323  Caldwell, Mrs. Albert Francis (Sylvia Mae Harb...  female  22.0      1   \n",
            "254           Rosblom, Mrs. Viktor (Helena Wilhelmina)  female  41.0      0   \n",
            "..                                                 ...     ...   ...    ...   \n",
            "754                   Herman, Mrs. Samuel (Jane Laver)  female  48.0      1   \n",
            "548                          Goldsmith, Mr. Frank John    male  33.0      1   \n",
            "736            Ford, Mrs. Edward (Margaret Ann Watson)  female  48.0      1   \n",
            "340                     Navratil, Master. Edmond Roger    male   2.0      1   \n",
            "297                       Allison, Miss. Helen Loraine  female   2.0      1   \n",
            "\n",
            "     Parch      Ticket      Fare    Cabin Embarked  Survived  \n",
            "436      2  W./C. 6608   34.3750      NaN        S         0  \n",
            "148      2      230080   26.0000       F2        S         0  \n",
            "848      1      248727   33.0000      NaN        S         0  \n",
            "323      1      248738   29.0000      NaN        S         1  \n",
            "254      2      370129   20.2125      NaN        S         0  \n",
            "..     ...         ...       ...      ...      ...       ...  \n",
            "754      2      220845   65.0000      NaN        S         1  \n",
            "548      1      363291   20.5250      NaN        S         0  \n",
            "736      3  W./C. 6608   34.3750      NaN        S         0  \n",
            "340      1      230080   26.0000       F2        S         1  \n",
            "297      2      113781  151.5500  C22 C26        S         0  \n",
            "\n",
            "[207 rows x 13 columns]\n"
          ]
        }
      ]
    },
    {
      "cell_type": "code",
      "source": [
        "#9\n",
        "\n",
        "rand_titanic2=rand_titanic.sort_values(by='Age', ascending=False)\n",
        "print(rand_titanic2)"
      ],
      "metadata": {
        "colab": {
          "base_uri": "https://localhost:8080/"
        },
        "id": "lxnQJrUg7DbG",
        "outputId": "c11f1ef3-8c3f-420c-dab3-bf62dc864df2"
      },
      "execution_count": null,
      "outputs": [
        {
          "output_type": "stream",
          "name": "stdout",
          "text": [
            "     Diferença  PassengerId  Pclass                               Name  \\\n",
            "745  47.266643          746       1       Crosby, Capt. Edward Gifford   \n",
            "54   43.841524           55       1     Ostby, Mr. Engelhart Cornelius   \n",
            "438  41.101429          439       1                  Fortune, Mr. Mark   \n",
            "684  40.416405          685       2  Brown, Mr. Thomas William Solomon   \n",
            "587  40.416405          588       1   Frolicher-Stehli, Mr. Maxmillian   \n",
            "..         ...          ...     ...                                ...   \n",
            "180        NaN          181       3       Sage, Miss. Constance Gladys   \n",
            "176        NaN          177       3      Lefebre, Master. Henry Forbes   \n",
            "140        NaN          141       3      Boulos, Mrs. Joseph (Sultana)   \n",
            "792        NaN          793       3            Sage, Miss. Stella Anna   \n",
            "846        NaN          847       3           Sage, Mr. Douglas Bullen   \n",
            "\n",
            "        Sex   Age  SibSp  Parch     Ticket      Fare        Cabin Embarked  \\\n",
            "745    male  70.0      1      1  WE/P 5735   71.0000          B22        S   \n",
            "54     male  65.0      0      1     113509   61.9792          B30        C   \n",
            "438    male  64.0      1      4      19950  263.0000  C23 C25 C27        S   \n",
            "684    male  60.0      1      1      29750   39.0000          NaN        S   \n",
            "587    male  60.0      1      1      13567   79.2000          B41        C   \n",
            "..      ...   ...    ...    ...        ...       ...          ...      ...   \n",
            "180  female   NaN      8      2   CA. 2343   69.5500          NaN        S   \n",
            "176    male   NaN      3      1       4133   25.4667          NaN        S   \n",
            "140  female   NaN      0      2       2678   15.2458          NaN        C   \n",
            "792  female   NaN      8      2   CA. 2343   69.5500          NaN        S   \n",
            "846    male   NaN      8      2   CA. 2343   69.5500          NaN        S   \n",
            "\n",
            "     Survived  \n",
            "745         0  \n",
            "54          0  \n",
            "438         0  \n",
            "684         0  \n",
            "587         1  \n",
            "..        ...  \n",
            "180         0  \n",
            "176         0  \n",
            "140         0  \n",
            "792         0  \n",
            "846         0  \n",
            "\n",
            "[207 rows x 13 columns]\n"
          ]
        }
      ]
    },
    {
      "cell_type": "code",
      "source": [
        "#10\n",
        "\n",
        "sobrev_por_genero=rand_titanic2.drop(columns=['Diferença','PassengerId','Pclass','Name','Age','SibSp','Parch','Ticket','Fare','Cabin','Embarked'])\n",
        "sobrev_por_genero.groupby('Sex').sum('Survived')"
      ],
      "metadata": {
        "colab": {
          "base_uri": "https://localhost:8080/",
          "height": 143
        },
        "id": "slKMl4Ul7gIv",
        "outputId": "0e01d7af-3fc0-446f-dfc1-dd7cb56028e1"
      },
      "execution_count": null,
      "outputs": [
        {
          "output_type": "execute_result",
          "data": {
            "text/plain": [
              "        Survived\n",
              "Sex             \n",
              "female        79\n",
              "male          29"
            ],
            "text/html": [
              "\n",
              "  <div id=\"df-3ae7b0a9-bd9e-4cc9-a879-0724428847be\">\n",
              "    <div class=\"colab-df-container\">\n",
              "      <div>\n",
              "<style scoped>\n",
              "    .dataframe tbody tr th:only-of-type {\n",
              "        vertical-align: middle;\n",
              "    }\n",
              "\n",
              "    .dataframe tbody tr th {\n",
              "        vertical-align: top;\n",
              "    }\n",
              "\n",
              "    .dataframe thead th {\n",
              "        text-align: right;\n",
              "    }\n",
              "</style>\n",
              "<table border=\"1\" class=\"dataframe\">\n",
              "  <thead>\n",
              "    <tr style=\"text-align: right;\">\n",
              "      <th></th>\n",
              "      <th>Survived</th>\n",
              "    </tr>\n",
              "    <tr>\n",
              "      <th>Sex</th>\n",
              "      <th></th>\n",
              "    </tr>\n",
              "  </thead>\n",
              "  <tbody>\n",
              "    <tr>\n",
              "      <th>female</th>\n",
              "      <td>79</td>\n",
              "    </tr>\n",
              "    <tr>\n",
              "      <th>male</th>\n",
              "      <td>29</td>\n",
              "    </tr>\n",
              "  </tbody>\n",
              "</table>\n",
              "</div>\n",
              "      <button class=\"colab-df-convert\" onclick=\"convertToInteractive('df-3ae7b0a9-bd9e-4cc9-a879-0724428847be')\"\n",
              "              title=\"Convert this dataframe to an interactive table.\"\n",
              "              style=\"display:none;\">\n",
              "        \n",
              "  <svg xmlns=\"http://www.w3.org/2000/svg\" height=\"24px\"viewBox=\"0 0 24 24\"\n",
              "       width=\"24px\">\n",
              "    <path d=\"M0 0h24v24H0V0z\" fill=\"none\"/>\n",
              "    <path d=\"M18.56 5.44l.94 2.06.94-2.06 2.06-.94-2.06-.94-.94-2.06-.94 2.06-2.06.94zm-11 1L8.5 8.5l.94-2.06 2.06-.94-2.06-.94L8.5 2.5l-.94 2.06-2.06.94zm10 10l.94 2.06.94-2.06 2.06-.94-2.06-.94-.94-2.06-.94 2.06-2.06.94z\"/><path d=\"M17.41 7.96l-1.37-1.37c-.4-.4-.92-.59-1.43-.59-.52 0-1.04.2-1.43.59L10.3 9.45l-7.72 7.72c-.78.78-.78 2.05 0 2.83L4 21.41c.39.39.9.59 1.41.59.51 0 1.02-.2 1.41-.59l7.78-7.78 2.81-2.81c.8-.78.8-2.07 0-2.86zM5.41 20L4 18.59l7.72-7.72 1.47 1.35L5.41 20z\"/>\n",
              "  </svg>\n",
              "      </button>\n",
              "      \n",
              "  <style>\n",
              "    .colab-df-container {\n",
              "      display:flex;\n",
              "      flex-wrap:wrap;\n",
              "      gap: 12px;\n",
              "    }\n",
              "\n",
              "    .colab-df-convert {\n",
              "      background-color: #E8F0FE;\n",
              "      border: none;\n",
              "      border-radius: 50%;\n",
              "      cursor: pointer;\n",
              "      display: none;\n",
              "      fill: #1967D2;\n",
              "      height: 32px;\n",
              "      padding: 0 0 0 0;\n",
              "      width: 32px;\n",
              "    }\n",
              "\n",
              "    .colab-df-convert:hover {\n",
              "      background-color: #E2EBFA;\n",
              "      box-shadow: 0px 1px 2px rgba(60, 64, 67, 0.3), 0px 1px 3px 1px rgba(60, 64, 67, 0.15);\n",
              "      fill: #174EA6;\n",
              "    }\n",
              "\n",
              "    [theme=dark] .colab-df-convert {\n",
              "      background-color: #3B4455;\n",
              "      fill: #D2E3FC;\n",
              "    }\n",
              "\n",
              "    [theme=dark] .colab-df-convert:hover {\n",
              "      background-color: #434B5C;\n",
              "      box-shadow: 0px 1px 3px 1px rgba(0, 0, 0, 0.15);\n",
              "      filter: drop-shadow(0px 1px 2px rgba(0, 0, 0, 0.3));\n",
              "      fill: #FFFFFF;\n",
              "    }\n",
              "  </style>\n",
              "\n",
              "      <script>\n",
              "        const buttonEl =\n",
              "          document.querySelector('#df-3ae7b0a9-bd9e-4cc9-a879-0724428847be button.colab-df-convert');\n",
              "        buttonEl.style.display =\n",
              "          google.colab.kernel.accessAllowed ? 'block' : 'none';\n",
              "\n",
              "        async function convertToInteractive(key) {\n",
              "          const element = document.querySelector('#df-3ae7b0a9-bd9e-4cc9-a879-0724428847be');\n",
              "          const dataTable =\n",
              "            await google.colab.kernel.invokeFunction('convertToInteractive',\n",
              "                                                     [key], {});\n",
              "          if (!dataTable) return;\n",
              "\n",
              "          const docLinkHtml = 'Like what you see? Visit the ' +\n",
              "            '<a target=\"_blank\" href=https://colab.research.google.com/notebooks/data_table.ipynb>data table notebook</a>'\n",
              "            + ' to learn more about interactive tables.';\n",
              "          element.innerHTML = '';\n",
              "          dataTable['output_type'] = 'display_data';\n",
              "          await google.colab.output.renderOutput(dataTable, element);\n",
              "          const docLink = document.createElement('div');\n",
              "          docLink.innerHTML = docLinkHtml;\n",
              "          element.appendChild(docLink);\n",
              "        }\n",
              "      </script>\n",
              "    </div>\n",
              "  </div>\n",
              "  "
            ]
          },
          "metadata": {},
          "execution_count": 29
        }
      ]
    },
    {
      "cell_type": "code",
      "source": [
        "#11\n",
        "#dividir a taxa por 10\n",
        "\n",
        "rand_titanic2['Fare']=rand_titanic2['Fare'].map(lambda x:x/10)\n",
        "print(rand_titanic2)"
      ],
      "metadata": {
        "colab": {
          "base_uri": "https://localhost:8080/"
        },
        "id": "8jETdHp38OLq",
        "outputId": "1157f7b6-6389-4a91-ec34-4d5d41181e02"
      },
      "execution_count": null,
      "outputs": [
        {
          "output_type": "stream",
          "name": "stdout",
          "text": [
            "     Diferença  PassengerId  Pclass                               Name  \\\n",
            "745  47.266643          746       1       Crosby, Capt. Edward Gifford   \n",
            "54   43.841524           55       1     Ostby, Mr. Engelhart Cornelius   \n",
            "438  41.101429          439       1                  Fortune, Mr. Mark   \n",
            "684  40.416405          685       2  Brown, Mr. Thomas William Solomon   \n",
            "587  40.416405          588       1   Frolicher-Stehli, Mr. Maxmillian   \n",
            "..         ...          ...     ...                                ...   \n",
            "180        NaN          181       3       Sage, Miss. Constance Gladys   \n",
            "176        NaN          177       3      Lefebre, Master. Henry Forbes   \n",
            "140        NaN          141       3      Boulos, Mrs. Joseph (Sultana)   \n",
            "792        NaN          793       3            Sage, Miss. Stella Anna   \n",
            "846        NaN          847       3           Sage, Mr. Douglas Bullen   \n",
            "\n",
            "        Sex   Age  SibSp  Parch     Ticket      Fare        Cabin Embarked  \\\n",
            "745    male  70.0      1      1  WE/P 5735   7.10000          B22        S   \n",
            "54     male  65.0      0      1     113509   6.19792          B30        C   \n",
            "438    male  64.0      1      4      19950  26.30000  C23 C25 C27        S   \n",
            "684    male  60.0      1      1      29750   3.90000          NaN        S   \n",
            "587    male  60.0      1      1      13567   7.92000          B41        C   \n",
            "..      ...   ...    ...    ...        ...       ...          ...      ...   \n",
            "180  female   NaN      8      2   CA. 2343   6.95500          NaN        S   \n",
            "176    male   NaN      3      1       4133   2.54667          NaN        S   \n",
            "140  female   NaN      0      2       2678   1.52458          NaN        C   \n",
            "792  female   NaN      8      2   CA. 2343   6.95500          NaN        S   \n",
            "846    male   NaN      8      2   CA. 2343   6.95500          NaN        S   \n",
            "\n",
            "     Survived  \n",
            "745         0  \n",
            "54          0  \n",
            "438         0  \n",
            "684         0  \n",
            "587         1  \n",
            "..        ...  \n",
            "180         0  \n",
            "176         0  \n",
            "140         0  \n",
            "792         0  \n",
            "846         0  \n",
            "\n",
            "[207 rows x 13 columns]\n"
          ]
        }
      ]
    },
    {
      "cell_type": "code",
      "source": [
        "#12\n",
        "from google.colab import drive\n",
        "drive.mount('/drive',force_remount=True)\n",
        "rand_titanic2.to_csv('/drive/MyDrive/rand_titanic2.csv')"
      ],
      "metadata": {
        "id": "GI59XnLkBsV1",
        "colab": {
          "base_uri": "https://localhost:8080/"
        },
        "outputId": "1c2adf5e-5d66-473a-8ea4-7452c70b14a7"
      },
      "execution_count": 36,
      "outputs": [
        {
          "output_type": "stream",
          "name": "stdout",
          "text": [
            "Mounted at /drive\n"
          ]
        }
      ]
    },
    {
      "cell_type": "code",
      "source": [
        "#13\n",
        "\n",
        "drive.mount('/drive',force_remount=True)\n",
        "rand_titanic2.to_json('/drive/MyDrive/rand_titanic2.json')"
      ],
      "metadata": {
        "colab": {
          "base_uri": "https://localhost:8080/"
        },
        "id": "VGV4JEKyTyKn",
        "outputId": "981ae18f-2d76-4847-c413-07614ca5cc22"
      },
      "execution_count": 38,
      "outputs": [
        {
          "output_type": "stream",
          "name": "stdout",
          "text": [
            "Mounted at /drive\n"
          ]
        }
      ]
    }
  ]
}